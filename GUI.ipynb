{
 "cells": [
  {
   "cell_type": "code",
   "execution_count": 9,
   "metadata": {},
   "outputs": [
    {
     "name": "stdout",
     "output_type": "stream",
     "text": [
      "avant\n",
      "après\n"
     ]
    }
   ],
   "source": [
    "from tkinter import Tk, Label, Button, LEFT, RIGHT, TOP, BOTTOM\n",
    "\n",
    "fen = Tk()\n",
    "\n",
    "label = Label(fen, text=\"Hello IPSSI\")\n",
    "label.pack(side=LEFT)\n",
    "\n",
    "button1 = Button(fen, text=\"Button 1\")\n",
    "button1.pack()\n",
    "\n",
    "button2 = Button(fen, text=\"Button 2\")\n",
    "button2.pack()\n",
    "\n",
    "print(\"avant\")\n",
    "fen.mainloop()\n",
    "print(\"après\")"
   ]
  },
  {
   "cell_type": "code",
   "execution_count": 10,
   "metadata": {},
   "outputs": [
    {
     "name": "stdout",
     "output_type": "stream",
     "text": [
      "avant\n",
      "après\n"
     ]
    }
   ],
   "source": [
    "from tkinter import Tk, Label, Button, LEFT, RIGHT, TOP, BOTTOM\n",
    "\n",
    "fen = Tk()\n",
    "\n",
    "label = Label(fen, text=\"Hello IPSSI\")\n",
    "label.pack() # par défaut side=TOP\n",
    "\n",
    "button1 = Button(fen, text=\"Button 1\")\n",
    "button1.pack(side=LEFT) # a gauche du reste (du bouton 2)\n",
    "\n",
    "button2 = Button(fen, text=\"Button 2\")\n",
    "button2.pack()\n",
    "\n",
    "print(\"avant\")\n",
    "fen.mainloop()\n",
    "print(\"après\")"
   ]
  },
  {
   "cell_type": "code",
   "execution_count": 11,
   "metadata": {},
   "outputs": [
    {
     "name": "stdout",
     "output_type": "stream",
     "text": [
      "avant\n",
      "après\n"
     ]
    }
   ],
   "source": [
    "from tkinter import Tk, Label, Button, LEFT, RIGHT, TOP, BOTTOM\n",
    "\n",
    "fen = Tk()\n",
    "\n",
    "label = Label(fen, text=\"Hello IPSSI\")\n",
    "label.pack() # par défaut side=TOP\n",
    "\n",
    "button1 = Button(fen, text=\"Button 1\")\n",
    "button1.pack()\n",
    "\n",
    "button2 = Button(fen, text=\"Button 2\")\n",
    "button2.pack(side=LEFT)\n",
    "\n",
    "print(\"avant\")\n",
    "fen.mainloop()\n",
    "print(\"après\")"
   ]
  },
  {
   "cell_type": "code",
   "execution_count": null,
   "metadata": {},
   "outputs": [
    {
     "name": "stdout",
     "output_type": "stream",
     "text": [
      "avant\n"
     ]
    }
   ],
   "source": [
    "from tkinter import Tk, Label, Button, LEFT, RIGHT, TOP, BOTTOM\n",
    "\n",
    "fen = Tk()\n",
    "\n",
    "label = Label(fen, text=\"Hello IPSSI\")\n",
    "button1 = Button(fen, text=\"Button 1\", padx=4, pady=4)\n",
    "button2 = Button(fen, text=\"Button 2\")\n",
    "\n",
    "button2.pack(side=LEFT)\n",
    "label.pack() # par défaut side=TOP\n",
    "button1.pack()\n",
    "\n",
    "print(\"avant\")\n",
    "fen.mainloop()\n",
    "print(\"après\")"
   ]
  },
  {
   "cell_type": "code",
   "execution_count": 16,
   "metadata": {},
   "outputs": [],
   "source": [
    "from tkinter import Tk, Label, Button, LEFT, RIGHT, TOP, BOTTOM\n",
    "\n",
    "fen = Tk()\n",
    "\n",
    "for i in range(3):\n",
    "    for j in range(3):\n",
    "        button = Button(fen, text=f\"{i} - {j}\", width=5, height=3)\n",
    "        button.grid(row=i, column=j)\n",
    "\n",
    "fen.mainloop()"
   ]
  },
  {
   "cell_type": "code",
   "execution_count": null,
   "metadata": {},
   "outputs": [],
   "source": []
  }
 ],
 "metadata": {
  "kernelspec": {
   "display_name": "Python 3",
   "language": "python",
   "name": "python3"
  },
  "language_info": {
   "codemirror_mode": {
    "name": "ipython",
    "version": 3
   },
   "file_extension": ".py",
   "mimetype": "text/x-python",
   "name": "python",
   "nbconvert_exporter": "python",
   "pygments_lexer": "ipython3",
   "version": "3.7.3"
  }
 },
 "nbformat": 4,
 "nbformat_minor": 4
}
