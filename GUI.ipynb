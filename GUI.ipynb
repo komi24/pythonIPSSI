{
 "cells": [
  {
   "cell_type": "code",
   "execution_count": 41,
   "metadata": {},
   "outputs": [
    {
     "name": "stdout",
     "output_type": "stream",
     "text": [
      "avant\n",
      "après\n"
     ]
    }
   ],
   "source": [
    "from tkinter import Tk, Label, Button, LEFT, RIGHT, TOP, BOTTOM\n",
    "\n",
    "fen = Tk()\n",
    "\n",
    "label = Label(fen, text=\"Hello IPSSI\")\n",
    "label.pack(side=LEFT)\n",
    "\n",
    "button1 = Button(fen, text=\"Button 1\")\n",
    "button1.pack()\n",
    "\n",
    "button2 = Button(fen, text=\"Button 2\")\n",
    "button2.pack()\n",
    "\n",
    "print(\"avant\")\n",
    "fen.mainloop()\n",
    "print(\"après\")"
   ]
  },
  {
   "cell_type": "code",
   "execution_count": 42,
   "metadata": {},
   "outputs": [
    {
     "name": "stdout",
     "output_type": "stream",
     "text": [
      "avant\n",
      "après\n"
     ]
    }
   ],
   "source": [
    "from tkinter import Tk, Label, Button, LEFT, RIGHT, TOP, BOTTOM\n",
    "\n",
    "fen = Tk()\n",
    "\n",
    "label = Label(fen, text=\"Hello IPSSI\")\n",
    "label.pack() # par défaut side=TOP\n",
    "\n",
    "button1 = Button(fen, text=\"Button 1\")\n",
    "button1.pack(side=LEFT) # a gauche du reste (du bouton 2)\n",
    "\n",
    "button2 = Button(fen, text=\"Button 2\")\n",
    "button2.pack()\n",
    "\n",
    "print(\"avant\")\n",
    "fen.mainloop()\n",
    "print(\"après\")"
   ]
  },
  {
   "cell_type": "code",
   "execution_count": 43,
   "metadata": {},
   "outputs": [
    {
     "name": "stdout",
     "output_type": "stream",
     "text": [
      "avant\n",
      "après\n"
     ]
    }
   ],
   "source": [
    "from tkinter import Tk, Label, Button, LEFT, RIGHT, TOP, BOTTOM\n",
    "\n",
    "fen = Tk()\n",
    "\n",
    "label = Label(fen, text=\"Hello IPSSI\")\n",
    "label.pack() # par défaut side=TOP\n",
    "\n",
    "button1 = Button(fen, text=\"Button 1\")\n",
    "button1.pack()\n",
    "\n",
    "button2 = Button(fen, text=\"Button 2\")\n",
    "button2.pack(side=LEFT)\n",
    "\n",
    "print(\"avant\")\n",
    "fen.mainloop()\n",
    "print(\"après\")"
   ]
  },
  {
   "cell_type": "code",
   "execution_count": 18,
   "metadata": {},
   "outputs": [
    {
     "name": "stdout",
     "output_type": "stream",
     "text": [
      "avant\n",
      "après\n"
     ]
    }
   ],
   "source": [
    "from tkinter import Tk, Label, Button, LEFT, RIGHT, TOP, BOTTOM\n",
    "\n",
    "fen = Tk()\n",
    "\n",
    "label = Label(fen, text=\"Hello IPSSI\")\n",
    "button1 = Button(fen, text=\"Button 1\", padx=14, pady=14)\n",
    "button2 = Button(fen, text=\"Button 2\")\n",
    "\n",
    "button2.pack(side=LEFT)\n",
    "label.pack() # par défaut side=TOP\n",
    "button1.pack()\n",
    "\n",
    "print(\"avant\")\n",
    "fen.mainloop()\n",
    "print(\"après\")"
   ]
  },
  {
   "cell_type": "code",
   "execution_count": 44,
   "metadata": {},
   "outputs": [],
   "source": [
    "from tkinter import Tk, Label, Button, LEFT, RIGHT, TOP, BOTTOM\n",
    "\n",
    "fen = Tk()\n",
    "\n",
    "for i in range(3):\n",
    "    for j in range(3):\n",
    "        button = Button(fen, text=f\"{i} - {j}\", width=5, height=3)\n",
    "        button.grid(row=i, column=j)\n",
    "\n",
    "fen.mainloop()"
   ]
  },
  {
   "cell_type": "code",
   "execution_count": 53,
   "metadata": {},
   "outputs": [],
   "source": [
    "# afficher le début d'un pavé numérique (les chiffres de 1 à 9,de bas en haut et de gauche à droite)\n",
    "from tkinter import Tk, Label, Button, LEFT, RIGHT, TOP, BOTTOM\n",
    "\n",
    "fen = Tk()\n",
    "\n",
    "for i in range(9):\n",
    "    button = Button(fen, text=f\"{i+1}\", width=5, height=3)\n",
    "    button.grid(row=2-i//3, column=i%3)\n",
    "\n",
    "fen.mainloop()"
   ]
  },
  {
   "cell_type": "code",
   "execution_count": 33,
   "metadata": {},
   "outputs": [
    {
     "ename": "TclError",
     "evalue": "cannot use geometry manager grid inside . which already has slaves managed by pack",
     "output_type": "error",
     "traceback": [
      "\u001b[1;31m---------------------------------------------------------------------------\u001b[0m",
      "\u001b[1;31mTclError\u001b[0m                                  Traceback (most recent call last)",
      "\u001b[1;32m<ipython-input-33-6579afb5d63c>\u001b[0m in \u001b[0;36m<module>\u001b[1;34m\u001b[0m\n\u001b[0;32m      9\u001b[0m \u001b[1;32mfor\u001b[0m \u001b[0mi\u001b[0m \u001b[1;32min\u001b[0m \u001b[0mrange\u001b[0m\u001b[1;33m(\u001b[0m\u001b[1;36m9\u001b[0m\u001b[1;33m)\u001b[0m\u001b[1;33m:\u001b[0m\u001b[1;33m\u001b[0m\u001b[1;33m\u001b[0m\u001b[0m\n\u001b[0;32m     10\u001b[0m     \u001b[0mbutton\u001b[0m \u001b[1;33m=\u001b[0m \u001b[0mButton\u001b[0m\u001b[1;33m(\u001b[0m\u001b[0mfen\u001b[0m\u001b[1;33m,\u001b[0m \u001b[0mtext\u001b[0m\u001b[1;33m=\u001b[0m\u001b[1;34mf\"{i+1}\"\u001b[0m\u001b[1;33m,\u001b[0m \u001b[0mwidth\u001b[0m\u001b[1;33m=\u001b[0m\u001b[1;36m5\u001b[0m\u001b[1;33m,\u001b[0m \u001b[0mheight\u001b[0m\u001b[1;33m=\u001b[0m\u001b[1;36m3\u001b[0m\u001b[1;33m)\u001b[0m\u001b[1;33m\u001b[0m\u001b[1;33m\u001b[0m\u001b[0m\n\u001b[1;32m---> 11\u001b[1;33m     \u001b[0mbutton\u001b[0m\u001b[1;33m.\u001b[0m\u001b[0mgrid\u001b[0m\u001b[1;33m(\u001b[0m\u001b[0mrow\u001b[0m\u001b[1;33m=\u001b[0m\u001b[1;33m-\u001b[0m\u001b[0mi\u001b[0m\u001b[1;33m//\u001b[0m\u001b[1;36m3\u001b[0m\u001b[1;33m,\u001b[0m \u001b[0mcolumn\u001b[0m\u001b[1;33m=\u001b[0m\u001b[0mi\u001b[0m\u001b[1;33m%\u001b[0m\u001b[1;36m3\u001b[0m\u001b[1;33m)\u001b[0m\u001b[1;33m\u001b[0m\u001b[1;33m\u001b[0m\u001b[0m\n\u001b[0m\u001b[0;32m     12\u001b[0m \u001b[1;33m\u001b[0m\u001b[0m\n\u001b[0;32m     13\u001b[0m \u001b[0mfen\u001b[0m\u001b[1;33m.\u001b[0m\u001b[0mmainloop\u001b[0m\u001b[1;33m(\u001b[0m\u001b[1;33m)\u001b[0m\u001b[1;33m\u001b[0m\u001b[1;33m\u001b[0m\u001b[0m\n",
      "\u001b[1;32m~\\Anaconda3\\lib\\tkinter\\__init__.py\u001b[0m in \u001b[0;36mgrid_configure\u001b[1;34m(self, cnf, **kw)\u001b[0m\n\u001b[0;32m   2224\u001b[0m         self.tk.call(\n\u001b[0;32m   2225\u001b[0m               \u001b[1;33m(\u001b[0m\u001b[1;34m'grid'\u001b[0m\u001b[1;33m,\u001b[0m \u001b[1;34m'configure'\u001b[0m\u001b[1;33m,\u001b[0m \u001b[0mself\u001b[0m\u001b[1;33m.\u001b[0m\u001b[0m_w\u001b[0m\u001b[1;33m)\u001b[0m\u001b[1;33m\u001b[0m\u001b[1;33m\u001b[0m\u001b[0m\n\u001b[1;32m-> 2226\u001b[1;33m               + self._options(cnf, kw))\n\u001b[0m\u001b[0;32m   2227\u001b[0m     \u001b[0mgrid\u001b[0m \u001b[1;33m=\u001b[0m \u001b[0mconfigure\u001b[0m \u001b[1;33m=\u001b[0m \u001b[0mconfig\u001b[0m \u001b[1;33m=\u001b[0m \u001b[0mgrid_configure\u001b[0m\u001b[1;33m\u001b[0m\u001b[1;33m\u001b[0m\u001b[0m\n\u001b[0;32m   2228\u001b[0m     \u001b[0mbbox\u001b[0m \u001b[1;33m=\u001b[0m \u001b[0mgrid_bbox\u001b[0m \u001b[1;33m=\u001b[0m \u001b[0mMisc\u001b[0m\u001b[1;33m.\u001b[0m\u001b[0mgrid_bbox\u001b[0m\u001b[1;33m\u001b[0m\u001b[1;33m\u001b[0m\u001b[0m\n",
      "\u001b[1;31mTclError\u001b[0m: cannot use geometry manager grid inside . which already has slaves managed by pack"
     ]
    }
   ],
   "source": [
    "# afficher le début d'un pavé numérique (les chiffres de 1 à 9,de bas en haut et de gauche à droite)\n",
    "from tkinter import Tk, Label, Button, LEFT, RIGHT, TOP, BOTTOM\n",
    "\n",
    "fen = Tk()\n",
    "\n",
    "label = Label(fen, text=\"Hello\")\n",
    "label.pack()\n",
    "\n",
    "for i in range(9):\n",
    "    button = Button(fen, text=f\"{i+1}\", width=5, height=3)\n",
    "    button.grid(row=(i//3), column=i%3)\n",
    "\n",
    "fen.mainloop()"
   ]
  },
  {
   "cell_type": "code",
   "execution_count": 57,
   "metadata": {},
   "outputs": [],
   "source": [
    "# afficher le début d'un pavé numérique (les chiffres de 1 à 9,de bas en haut et de gauche à droite)\n",
    "from tkinter import Tk, Label, Frame, Button, LEFT, RIGHT, TOP, BOTTOM\n",
    "\n",
    "fen = Tk()\n",
    "\n",
    "label = Label(fen, text=\"Hello\")\n",
    "label.pack()\n",
    "\n",
    "frame = Frame(fen)\n",
    "frame.pack()\n",
    "\n",
    "button = Button(fen, text=\"Entrer\", height=3)\n",
    "button.pack(fill='both')\n",
    "\n",
    "for i in range(9):\n",
    "    button = Button(frame, text=f\"{i+1}\", width=5, height=3)\n",
    "    button.grid(row=2-i//3, column=i%3)\n",
    "\n",
    "fen.mainloop()"
   ]
  },
  {
   "cell_type": "code",
   "execution_count": 49,
   "metadata": {},
   "outputs": [
    {
     "name": "stdout",
     "output_type": "stream",
     "text": [
      "0\n",
      "0\n",
      "0\n",
      "1\n",
      "1\n",
      "1\n",
      "2\n",
      "2\n",
      "2\n",
      "3\n",
      "3\n",
      "3\n",
      "4\n",
      "4\n",
      "4\n",
      "5\n",
      "5\n",
      "5\n",
      "6\n",
      "6\n"
     ]
    }
   ],
   "source": [
    "for i in range(20):\n",
    "    print(i//3)"
   ]
  },
  {
   "cell_type": "code",
   "execution_count": null,
   "metadata": {},
   "outputs": [],
   "source": []
  }
 ],
 "metadata": {
  "kernelspec": {
   "display_name": "Python 3",
   "language": "python",
   "name": "python3"
  },
  "language_info": {
   "codemirror_mode": {
    "name": "ipython",
    "version": 3
   },
   "file_extension": ".py",
   "mimetype": "text/x-python",
   "name": "python",
   "nbconvert_exporter": "python",
   "pygments_lexer": "ipython3",
   "version": "3.7.3"
  }
 },
 "nbformat": 4,
 "nbformat_minor": 4
}
