{
 "cells": [
  {
   "cell_type": "code",
   "execution_count": 1,
   "metadata": {},
   "outputs": [
    {
     "name": "stdout",
     "output_type": "stream",
     "text": [
      "10000\n",
      "9000\n",
      "10000\n"
     ]
    }
   ],
   "source": [
    "class CompteBancaire:\n",
    "    def __init__(self, balance=10000):\n",
    "        self.balance = balance\n",
    "    \n",
    "    def withdraw(self, amount):\n",
    "#         self.balance = self.balance - amount\n",
    "        self.balance -= amount\n",
    "    \n",
    "    def deposit(self, amount):\n",
    "        self.balance += amount\n",
    "        \n",
    "    def __lt__(self, other):\n",
    "        return self.balance < other.balance\n",
    "\n",
    "    def __eq__(self, other):\n",
    "        return self.balance == other.balance\n",
    "    \n",
    "c1 = CompteBancaire()\n",
    "print(c1.balance)\n",
    "c1.withdraw(1000)\n",
    "print(c1.balance)\n",
    "c1.deposit(1000)\n",
    "print(c1.balance)\n",
    "\n"
   ]
  },
  {
   "cell_type": "code",
   "execution_count": 2,
   "metadata": {},
   "outputs": [
    {
     "data": {
      "text/plain": [
       "10400.0"
      ]
     },
     "execution_count": 2,
     "metadata": {},
     "output_type": "execute_result"
    }
   ],
   "source": [
    "\"\"\"\n",
    "Créer deux classes CompteCheque et CompteEpargne qui hérite de CompteBancaire\n",
    "La classe CompteCheque possède un attribut decouvert_max\n",
    "et sa méthode retrait ne doit pas mettre le solde en dessous du decouvert\n",
    "\n",
    "La classe CompteEpargne possède un attribut interet\n",
    "et une méthode en plus annee_prochaine() : rajoute au solde les interet de l'année passée\n",
    "balance += balance * interet / 100\n",
    "\n",
    "Dans la méthode retrait du compte epargne on ne doit pas descendre en dessous dzéro\n",
    "\n",
    "Ajouter des asserts dans les classes filles \n",
    "\"\"\"\n",
    "\n",
    "class CompteCheque(CompteBancaire):\n",
    "    def __init__(self, balance, overdraft):\n",
    "        CompteBancaire.__init__(self, balance)\n",
    "        self.overdraft = overdraft\n",
    "        \n",
    "    def withdraw(self, amount):\n",
    "        assert amount < self.balance + self.overdraft, \"Not enough money\"\n",
    "        CompteBancaire.withdraw(self, amount)\n",
    "        \n",
    "class CompteEpargne(CompteBancaire):\n",
    "    def __init__(self, balance, interest_rate):\n",
    "        assert 0 <= interest_rate and interest_rate <= 100, \"Interest rate should be between 0 and 100\"\n",
    "        CompteBancaire.__init__(self, balance)\n",
    "        self.interest_rate = interest_rate\n",
    "        \n",
    "    def withdraw(self, amount):\n",
    "        assert amount < self.balance, \"Not enough money\"\n",
    "        CompteBancaire.withdraw(self, amount)\n",
    "    \n",
    "    def next_year(self):\n",
    "        self.balance += self.balance * self.interest_rate / 100\n",
    "        \n",
    "        \n",
    "c1 = CompteCheque(1100, 200)\n",
    "c1.withdraw(1200)\n",
    "c1.balance\n",
    "\n",
    "c2 = CompteEpargne(10000, 4)\n",
    "# c2.withdraw(100)\n",
    "c2.next_year()\n",
    "\n",
    "c2.balance"
   ]
  },
  {
   "cell_type": "code",
   "execution_count": null,
   "metadata": {},
   "outputs": [],
   "source": [
    "\"\"\"\n",
    "    Une classe Personne et deux classe Client et Manager qui héritent de personne\n",
    "    Personne a un nom et prenom\n",
    "    Client a un compte_cheque et compte_epargne\n",
    "    Manager a une liste_clients\n",
    "    \n",
    "    ajouter le méthode transfert_a(self, autre_client, montant) dans client. Cette méthode retire \n",
    "    de l'argent du compte bancaire du client et le rajoute sur le compte de autre_client\n",
    "    \n",
    "    ajouter une méthode epargner(self, montant) qui retire de l'argnet du compte cheque et le rajoute\n",
    "    dans le compte epargne\n",
    "    \n",
    "    une methode nouvelle année dans client qui appelle nouvelle année dans le compte epargne\n",
    "    \n",
    "    une methode nouvelle année dans manager qui appelle nouvelle année pour tous ces clients\n",
    "    \n",
    "\"\"\""
   ]
  }
 ],
 "metadata": {
  "kernelspec": {
   "display_name": "Python 3",
   "language": "python",
   "name": "python3"
  },
  "language_info": {
   "codemirror_mode": {
    "name": "ipython",
    "version": 3
   },
   "file_extension": ".py",
   "mimetype": "text/x-python",
   "name": "python",
   "nbconvert_exporter": "python",
   "pygments_lexer": "ipython3",
   "version": "3.7.3"
  }
 },
 "nbformat": 4,
 "nbformat_minor": 4
}
