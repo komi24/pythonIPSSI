{
 "cells": [
  {
   "cell_type": "code",
   "execution_count": 1,
   "metadata": {},
   "outputs": [],
   "source": [
    "class Personne:\n",
    "    def __init__(self):\n",
    "        self.firstname = \"Albert\"\n",
    "        self.lastname = \"Einstein\"\n",
    "        \n"
   ]
  },
  {
   "cell_type": "code",
   "execution_count": 2,
   "metadata": {},
   "outputs": [
    {
     "name": "stdout",
     "output_type": "stream",
     "text": [
      "Albert\n"
     ]
    }
   ],
   "source": [
    "une_personne = Personne()\n",
    "print(une_personne.firstname)"
   ]
  },
  {
   "cell_type": "code",
   "execution_count": 4,
   "metadata": {},
   "outputs": [
    {
     "name": "stdout",
     "output_type": "stream",
     "text": [
      "Albert\n"
     ]
    }
   ],
   "source": [
    "autre_personne = Personne()\n",
    "print(autre_personne.firstname)"
   ]
  },
  {
   "cell_type": "code",
   "execution_count": 6,
   "metadata": {},
   "outputs": [
    {
     "name": "stdout",
     "output_type": "stream",
     "text": [
      "Thomas\n",
      "Albert\n"
     ]
    }
   ],
   "source": [
    "une_personne.firstname = \"Thomas\"\n",
    "print(une_personne.firstname)\n",
    "print(autre_personne.firstname)"
   ]
  },
  {
   "cell_type": "code",
   "execution_count": 7,
   "metadata": {},
   "outputs": [
    {
     "name": "stdout",
     "output_type": "stream",
     "text": [
      "Thomas\n",
      "Romain\n"
     ]
    }
   ],
   "source": [
    "class Personne:\n",
    "    def __init__(self, firstname_param, lastname_param):\n",
    "        self.firstname = firstname_param\n",
    "        self.lastname = lastname_param\n",
    "        \n",
    "        \n",
    "    \n",
    "une_personne = Personne(\"Thomas\", \"Shelby\")\n",
    "print(une_personne.firstname)\n",
    "autre_personne = Personne(\"Romain\", \"Grosjean\")\n",
    "print(autre_personne.firstname)"
   ]
  },
  {
   "cell_type": "code",
   "execution_count": 12,
   "metadata": {},
   "outputs": [
    {
     "name": "stdout",
     "output_type": "stream",
     "text": [
      "Hello I am Thomas Shelby\n",
      "I live in Liverpool and I am 30 y.o.\n",
      "Hello I am Arthur Shelby\n",
      "I live in Liverpool and I am 40 y.o.\n"
     ]
    }
   ],
   "source": [
    "class Personne:\n",
    "    def __init__(self, firstname_param, lastname_param=\"Shelby\", age=30):\n",
    "        \"\"\"\n",
    "           lastname optionnel (par defaut : 'Shelby')\n",
    "           age optionnel (par defaut : 30)\n",
    "           city toujours forcé à \"Liverpool\"\n",
    "        \"\"\"\n",
    "        self.firstname = firstname_param\n",
    "        self.lastname = lastname_param\n",
    "        self.age = age\n",
    "        self.city = \"Liverpool\"\n",
    "\n",
    "    def say_hello(self):\n",
    "        print(f\"Hello I am {self.firstname} {self.lastname}\")\n",
    "        print(f\"I live in {self.city} and I am {self.age} y.o.\")\n",
    "        \n",
    "    \n",
    "une_personne = Personne(\"Thomas\", \"Shelby\")\n",
    "une_personne.say_hello()\n",
    "autre_personne = Personne(\"Arthur\", age=40)\n",
    "autre_personne.say_hello()\n"
   ]
  },
  {
   "cell_type": "code",
   "execution_count": 13,
   "metadata": {},
   "outputs": [
    {
     "name": "stdout",
     "output_type": "stream",
     "text": [
      "Help on class Personne in module __main__:\n",
      "\n",
      "class Personne(builtins.object)\n",
      " |  Personne(firstname_param, lastname_param='Shelby', age=30)\n",
      " |  \n",
      " |  Methods defined here:\n",
      " |  \n",
      " |  __init__(self, firstname_param, lastname_param='Shelby', age=30)\n",
      " |      lastname optionnel (par defaut : 'Shelby')\n",
      " |      age optionnel (par defaut : 30)\n",
      " |      city toujours forcé à \"Liverpool\"\n",
      " |  \n",
      " |  say_hello(self)\n",
      " |  \n",
      " |  ----------------------------------------------------------------------\n",
      " |  Data descriptors defined here:\n",
      " |  \n",
      " |  __dict__\n",
      " |      dictionary for instance variables (if defined)\n",
      " |  \n",
      " |  __weakref__\n",
      " |      list of weak references to the object (if defined)\n",
      "\n"
     ]
    }
   ],
   "source": [
    "help(Personne)"
   ]
  },
  {
   "cell_type": "code",
   "execution_count": 14,
   "metadata": {},
   "outputs": [
    {
     "name": "stdout",
     "output_type": "stream",
     "text": [
      "<__main__.Personne object at 0x000001DA98821400>\n"
     ]
    }
   ],
   "source": [
    "print(une_personne)"
   ]
  },
  {
   "cell_type": "code",
   "execution_count": 20,
   "metadata": {},
   "outputs": [
    {
     "name": "stdout",
     "output_type": "stream",
     "text": [
      "Hello I am Thomas Shelby\n",
      "I live in Liverpool and I am 30 y.o.\n",
      "Hello I am Arthur Shelby\n",
      "I live in Liverpool and I am 40 y.o.\n",
      "firstname : Thomas, lastname : Shelby\n",
      "firstname : Arthur, lastname : Shelby\n"
     ]
    },
    {
     "data": {
      "text/plain": [
       "True"
      ]
     },
     "execution_count": 20,
     "metadata": {},
     "output_type": "execute_result"
    }
   ],
   "source": [
    "from functools import total_ordering\n",
    "\n",
    "\n",
    "@total_ordering\n",
    "class Personne:\n",
    "    def __init__(self, firstname_param, lastname_param=\"Shelby\", age=30):\n",
    "        \"\"\"\n",
    "           lastname optionnel (par defaut : 'Shelby')\n",
    "           age optionnel (par defaut : 30)\n",
    "           city toujours forcé à \"Liverpool\"\n",
    "        \"\"\"\n",
    "        self.firstname = firstname_param\n",
    "        self.lastname = lastname_param\n",
    "        self.age = age\n",
    "        self.city = \"Liverpool\"\n",
    "\n",
    "    def say_hello(self):\n",
    "        print(f\"Hello I am {self.firstname} {self.lastname}\")\n",
    "        print(f\"I live in {self.city} and I am {self.age} y.o.\")\n",
    "        \n",
    "    def __str__(self):\n",
    "        return f\"firstname : {self.firstname}, lastname : {self.lastname}\"\n",
    "    \n",
    "    def __lt__(self, other):\n",
    "        return self.age < other.age\n",
    "\n",
    "    def __eq__(self, other):\n",
    "        return self.age == other.age\n",
    "\n",
    "une_personne = Personne(\"Thomas\", \"Shelby\")\n",
    "une_personne.say_hello()\n",
    "autre_personne = Personne(\"Arthur\", age=40)\n",
    "autre_personne.say_hello()\n",
    "\n",
    "print(une_personne)\n",
    "print(autre_personne)\n",
    "autre_personne > une_personne"
   ]
  },
  {
   "cell_type": "markdown",
   "metadata": {},
   "source": [
    "## Compte bancaire\n",
    "\n",
    "Créer une classe Compte bancaire qui possède un balance (par défaut à 10000)\n",
    "\n",
    "méthodes : \n",
    "    - withdraw(amount) retirer le montant du solde (balance)\n",
    "    - deposit(amount) ajouter le montant au solde (balance)\n",
    "\n",
    "Ajouter à la classe Personne un compte bancaire (au init)\n",
    "\n",
    "Pour comparer deux personnes, on comparera le solde (balance) de leur compte bancaire\n"
   ]
  },
  {
   "cell_type": "code",
   "execution_count": 24,
   "metadata": {},
   "outputs": [
    {
     "name": "stdout",
     "output_type": "stream",
     "text": [
      "10000\n",
      "9000\n",
      "10000\n"
     ]
    }
   ],
   "source": [
    "class CompteBancaire:\n",
    "    def __init__(self, balance=10000):\n",
    "        self.balance = balance\n",
    "    \n",
    "    def withdraw(self, amount):\n",
    "#         self.balance = self.balance - amount\n",
    "        self.balance -= amount\n",
    "    \n",
    "    def deposit(self, amount):\n",
    "        self.balance += amount\n",
    "        \n",
    "    def __lt__(self, other):\n",
    "        return self.balance < other.balance\n",
    "\n",
    "    def __eq__(self, other):\n",
    "        return self.balance == other.balance\n",
    "    \n",
    "c1 = CompteBancaire()\n",
    "print(c1.balance)\n",
    "c1.withdraw(1000)\n",
    "print(c1.balance)\n",
    "c1.deposit(1000)\n",
    "print(c1.balance)\n"
   ]
  },
  {
   "cell_type": "code",
   "execution_count": 25,
   "metadata": {},
   "outputs": [
    {
     "name": "stdout",
     "output_type": "stream",
     "text": [
      "firstname : Thomas, lastname : Shelby\n",
      "firstname : Arthur, lastname : Shelby\n"
     ]
    },
    {
     "data": {
      "text/plain": [
       "True"
      ]
     },
     "execution_count": 25,
     "metadata": {},
     "output_type": "execute_result"
    }
   ],
   "source": [
    "from functools import total_ordering\n",
    "\n",
    "\n",
    "@total_ordering\n",
    "class Personne:\n",
    "    def __init__(self, firstname_param, lastname_param=\"Shelby\", age=30, balance=1000):\n",
    "        \"\"\"\n",
    "           lastname optionnel (par defaut : 'Shelby')\n",
    "           age optionnel (par defaut : 30)\n",
    "           city toujours forcé à \"Liverpool\"\n",
    "        \"\"\"\n",
    "        self.firstname = firstname_param\n",
    "        self.lastname = lastname_param\n",
    "        self.age = age\n",
    "        self.city = \"Liverpool\"\n",
    "        self.compte = CompteBancaire(balance)\n",
    "\n",
    "    def say_hello(self):\n",
    "        print(f\"Hello I am {self.firstname} {self.lastname}\")\n",
    "        print(f\"I live in {self.city} and I am {self.age} y.o.\")\n",
    "        \n",
    "    def __str__(self):\n",
    "        return f\"firstname : {self.firstname}, lastname : {self.lastname}\"\n",
    "    \n",
    "    def __lt__(self, other):\n",
    "        return self.compte < other.compte\n",
    "\n",
    "    def __eq__(self, other):\n",
    "        return self.compte == other.compte\n",
    "\n",
    "une_personne = Personne(\"Thomas\", \"Shelby\", balance=2000)\n",
    "autre_personne = Personne(\"Arthur\", age=40)\n",
    "\n",
    "print(une_personne)\n",
    "print(autre_personne)\n",
    "autre_personne < une_personne"
   ]
  },
  {
   "cell_type": "code",
   "execution_count": 105,
   "metadata": {},
   "outputs": [
    {
     "name": "stdout",
     "output_type": "stream",
     "text": [
      "[0 1]\n",
      "[0 1]\n"
     ]
    }
   ],
   "source": [
    "import numpy as np\n",
    "\n",
    "\n",
    "\"\"\"\n",
    "    Une classe Voiture\n",
    "    attributs:\n",
    "        - position : np.array([int, int]) (par défaut sera np.array([0, 0]))\n",
    "        - vitesse : np.array([int, int]) (par défault sera np.array([0, 1]))\n",
    "        - marque\n",
    "    methodes:\n",
    "        - avancer(): ajouter vitesse à position\n",
    "        - reculer(): retire vitesse à position\n",
    "        - accelerer(): ajoute un à vitesse\n",
    "        - freiner(): met vitesse à zero\n",
    "    \n",
    "\"\"\"\n",
    "\n",
    "class Voiture:\n",
    "    def __init__(self, marque_param, position_param=[0,0], vitesse_param=[0,1]):\n",
    "        self._marque = marque_param\n",
    "        self._position = np.array(position_param)\n",
    "        self._vitesse = np.array(vitesse_param)\n",
    "        \n",
    "    def avancer(self):\n",
    "        self._position += self._vitesse\n",
    "    def reculer(self):\n",
    "        self._position -= self._vitesse\n",
    "    def accelerer(self):\n",
    "        self._vitesse += 1\n",
    "    def freiner(self):\n",
    "        self._vitesse = 0\n",
    "        \n",
    "    def get_position(self):\n",
    "        return self._position\n",
    "\n",
    "            \n",
    "une_voiture = Voiture(\"Maybach\")\n",
    "une_voiture.avancer()\n",
    "print(une_voiture._position) # à bannir\n",
    "print(une_voiture.get_position())"
   ]
  },
  {
   "cell_type": "code",
   "execution_count": 37,
   "metadata": {},
   "outputs": [
    {
     "data": {
      "text/plain": [
       "array([0, 2])"
      ]
     },
     "execution_count": 37,
     "metadata": {},
     "output_type": "execute_result"
    }
   ],
   "source": [
    "np.array([0,1]) + np.array([0,1]) # addition de vecteurs"
   ]
  },
  {
   "cell_type": "code",
   "execution_count": 31,
   "metadata": {},
   "outputs": [
    {
     "data": {
      "text/plain": [
       "[0, 1, 0, 1]"
      ]
     },
     "execution_count": 31,
     "metadata": {},
     "output_type": "execute_result"
    }
   ],
   "source": [
    "[0,1] + [0,1] # addition de listes"
   ]
  },
  {
   "cell_type": "code",
   "execution_count": 86,
   "metadata": {},
   "outputs": [],
   "source": [
    "from random import randint\n",
    "\n",
    "voit1 = Voiture(\"Mercedes\")\n",
    "voit2 = Voiture(\"Mercedes\")\n",
    "\n",
    "liste_positions = []\n",
    "liste_positions2 = []\n",
    "\n",
    "for i in range(100):\n",
    "    voit1.vitesse = np.array([randint(-2,2), randint(-2,2)])\n",
    "    voit2.vitesse = np.array([randint(-1,4), randint(-4,4)])\n",
    "    voit1.avancer()\n",
    "    liste_positions.append(np.array(voit1.position))\n",
    "    voit2.avancer()\n",
    "    liste_positions2.append(np.array(voit2.position))\n"
   ]
  },
  {
   "cell_type": "code",
   "execution_count": 87,
   "metadata": {},
   "outputs": [
    {
     "data": {
      "image/png": "[encoded data removed]",
      "text/plain": [
       "<Figure size 432x288 with 1 Axes>"
      ]
     },
     "metadata": {
      "needs_background": "light"
     },
     "output_type": "display_data"
    }
   ],
   "source": [
    "import matplotlib.pyplot as plt\n",
    "\n",
    "plt.plot(np.array(liste_positions)[:,0], np.array(liste_positions)[:,1])\n",
    "plt.plot(np.array(liste_positions2)[:,0], np.array(liste_positions2)[:,1])\n",
    "plt.show()"
   ]
  },
  {
   "cell_type": "code",
   "execution_count": 68,
   "metadata": {},
   "outputs": [
    {
     "data": {
      "text/plain": [
       "array([[  2,  -1],\n",
       "       [  0,  -1],\n",
       "       [  2,  -2],\n",
       "       [  0,  -1],\n",
       "       [  1,  -3],\n",
       "       [ -1,  -3],\n",
       "       [ -1,  -1],\n",
       "       [ -3,  -2],\n",
       "       [ -5,   0],\n",
       "       [ -3,  -2],\n",
       "       [ -1,  -2],\n",
       "       [ -3,  -4],\n",
       "       [ -4,  -3],\n",
       "       [ -6,  -4],\n",
       "       [ -4,  -3],\n",
       "       [ -2,  -3],\n",
       "       [ -1,  -2],\n",
       "       [  1,  -1],\n",
       "       [ -1,  -2],\n",
       "       [  1,  -3],\n",
       "       [  2,  -4],\n",
       "       [  3,  -5],\n",
       "       [  4,  -5],\n",
       "       [  3,  -7],\n",
       "       [  3,  -9],\n",
       "       [  5,  -7],\n",
       "       [  7,  -9],\n",
       "       [  8,  -9],\n",
       "       [  8,  -7],\n",
       "       [ 10,  -6],\n",
       "       [ 12,  -8],\n",
       "       [ 11,  -7],\n",
       "       [ 10,  -6],\n",
       "       [  8,  -7],\n",
       "       [  9,  -9],\n",
       "       [ 11,  -9],\n",
       "       [  9, -10],\n",
       "       [ 11, -11],\n",
       "       [ 10, -13],\n",
       "       [ 11, -11],\n",
       "       [ 13, -11],\n",
       "       [ 11, -11],\n",
       "       [ 12, -10],\n",
       "       [ 12,  -9],\n",
       "       [ 14,  -9],\n",
       "       [ 13, -11],\n",
       "       [ 15, -10],\n",
       "       [ 13, -11],\n",
       "       [ 11, -13],\n",
       "       [ 12, -11],\n",
       "       [ 12,  -9],\n",
       "       [ 11, -11],\n",
       "       [ 11, -12],\n",
       "       [  9, -11],\n",
       "       [ 10, -10],\n",
       "       [  9, -12],\n",
       "       [  9, -10],\n",
       "       [ 10,  -9],\n",
       "       [ 11, -10],\n",
       "       [ 11,  -8],\n",
       "       [ 12,  -7],\n",
       "       [ 14,  -5],\n",
       "       [ 15,  -3],\n",
       "       [ 17,  -2],\n",
       "       [ 16,   0],\n",
       "       [ 18,   2],\n",
       "       [ 16,   3],\n",
       "       [ 18,   5],\n",
       "       [ 16,   5],\n",
       "       [ 16,   5],\n",
       "       [ 16,   5],\n",
       "       [ 17,   7],\n",
       "       [ 16,   9],\n",
       "       [ 17,  11],\n",
       "       [ 17,   9],\n",
       "       [ 16,   9],\n",
       "       [ 14,   9],\n",
       "       [ 14,   9],\n",
       "       [ 13,   7],\n",
       "       [ 13,   5],\n",
       "       [ 12,   4],\n",
       "       [ 14,   2],\n",
       "       [ 12,   3],\n",
       "       [ 13,   4],\n",
       "       [ 11,   6],\n",
       "       [ 10,   5],\n",
       "       [ 11,   5],\n",
       "       [ 11,   5],\n",
       "       [ 11,   7],\n",
       "       [  9,   8],\n",
       "       [  8,   9],\n",
       "       [  9,   8],\n",
       "       [  7,   9],\n",
       "       [  5,  11],\n",
       "       [  7,   9],\n",
       "       [  8,  10],\n",
       "       [  7,  10],\n",
       "       [  6,  12],\n",
       "       [  8,  11],\n",
       "       [  9,  10]])"
      ]
     },
     "execution_count": 68,
     "metadata": {},
     "output_type": "execute_result"
    }
   ],
   "source": [
    "np.array(liste_positions)"
   ]
  },
  {
   "cell_type": "code",
   "execution_count": 66,
   "metadata": {},
   "outputs": [
    {
     "data": {
      "text/plain": [
       "array([ 2,  0,  2,  0,  1, -1, -1, -3, -5, -3, -1, -3, -4, -6, -4, -2, -1,\n",
       "        1, -1,  1,  2,  3,  4,  3,  3,  5,  7,  8,  8, 10, 12, 11, 10,  8,\n",
       "        9, 11,  9, 11, 10, 11, 13, 11, 12, 12, 14, 13, 15, 13, 11, 12, 12,\n",
       "       11, 11,  9, 10,  9,  9, 10, 11, 11, 12, 14, 15, 17, 16, 18, 16, 18,\n",
       "       16, 16, 16, 17, 16, 17, 17, 16, 14, 14, 13, 13, 12, 14, 12, 13, 11,\n",
       "       10, 11, 11, 11,  9,  8,  9,  7,  5,  7,  8,  7,  6,  8,  9])"
      ]
     },
     "execution_count": 66,
     "metadata": {},
     "output_type": "execute_result"
    }
   ],
   "source": [
    "np.array(liste_positions)[:,0] # première colone"
   ]
  },
  {
   "cell_type": "code",
   "execution_count": 67,
   "metadata": {},
   "outputs": [
    {
     "data": {
      "text/plain": [
       "array([ -1,  -1,  -2,  -1,  -3,  -3,  -1,  -2,   0,  -2,  -2,  -4,  -3,\n",
       "        -4,  -3,  -3,  -2,  -1,  -2,  -3,  -4,  -5,  -5,  -7,  -9,  -7,\n",
       "        -9,  -9,  -7,  -6,  -8,  -7,  -6,  -7,  -9,  -9, -10, -11, -13,\n",
       "       -11, -11, -11, -10,  -9,  -9, -11, -10, -11, -13, -11,  -9, -11,\n",
       "       -12, -11, -10, -12, -10,  -9, -10,  -8,  -7,  -5,  -3,  -2,   0,\n",
       "         2,   3,   5,   5,   5,   5,   7,   9,  11,   9,   9,   9,   9,\n",
       "         7,   5,   4,   2,   3,   4,   6,   5,   5,   5,   7,   8,   9,\n",
       "         8,   9,  11,   9,  10,  10,  12,  11,  10])"
      ]
     },
     "execution_count": 67,
     "metadata": {},
     "output_type": "execute_result"
    }
   ],
   "source": [
    "np.array(liste_positions)[:,1] # deuxième colonne"
   ]
  },
  {
   "cell_type": "code",
   "execution_count": 4,
   "metadata": {},
   "outputs": [
    {
     "ename": "AssertionError",
     "evalue": "Position doit être une liste",
     "output_type": "error",
     "traceback": [
      "\u001b[1;31m---------------------------------------------------------------------------\u001b[0m",
      "\u001b[1;31mAssertionError\u001b[0m                            Traceback (most recent call last)",
      "\u001b[1;32m<ipython-input-4-2f18e2b51ca1>\u001b[0m in \u001b[0;36m<module>\u001b[1;34m\u001b[0m\n\u001b[0;32m     46\u001b[0m \u001b[1;33m\u001b[0m\u001b[0m\n\u001b[0;32m     47\u001b[0m \u001b[1;33m\u001b[0m\u001b[0m\n\u001b[1;32m---> 48\u001b[1;33m \u001b[0mune_voiture\u001b[0m \u001b[1;33m=\u001b[0m \u001b[0mVoiture\u001b[0m\u001b[1;33m(\u001b[0m\u001b[1;34m\"Renault\"\u001b[0m\u001b[1;33m,\u001b[0m \u001b[1;36m14\u001b[0m\u001b[1;33m)\u001b[0m\u001b[1;33m\u001b[0m\u001b[1;33m\u001b[0m\u001b[0m\n\u001b[0m\u001b[0;32m     49\u001b[0m \u001b[0mune_voiture_de_sport\u001b[0m \u001b[1;33m=\u001b[0m \u001b[0mVoitureSport\u001b[0m\u001b[1;33m(\u001b[0m\u001b[1;34m\"Porsche\"\u001b[0m\u001b[1;33m)\u001b[0m\u001b[1;33m\u001b[0m\u001b[1;33m\u001b[0m\u001b[0m\n\u001b[0;32m     50\u001b[0m \u001b[0mune_voiture\u001b[0m\u001b[1;33m.\u001b[0m\u001b[0mavancer\u001b[0m\u001b[1;33m(\u001b[0m\u001b[1;33m)\u001b[0m\u001b[1;33m\u001b[0m\u001b[1;33m\u001b[0m\u001b[0m\n",
      "\u001b[1;32m<ipython-input-4-2f18e2b51ca1>\u001b[0m in \u001b[0;36m__init__\u001b[1;34m(self, marque_param, position_param, vitesse_param)\u001b[0m\n\u001b[0;32m     18\u001b[0m \u001b[1;32mclass\u001b[0m \u001b[0mVoiture\u001b[0m\u001b[1;33m:\u001b[0m\u001b[1;33m\u001b[0m\u001b[1;33m\u001b[0m\u001b[0m\n\u001b[0;32m     19\u001b[0m     \u001b[1;32mdef\u001b[0m \u001b[0m__init__\u001b[0m\u001b[1;33m(\u001b[0m\u001b[0mself\u001b[0m\u001b[1;33m,\u001b[0m \u001b[0mmarque_param\u001b[0m\u001b[1;33m,\u001b[0m \u001b[0mposition_param\u001b[0m\u001b[1;33m=\u001b[0m\u001b[1;33m[\u001b[0m\u001b[1;36m0\u001b[0m\u001b[1;33m,\u001b[0m\u001b[1;36m0\u001b[0m\u001b[1;33m]\u001b[0m\u001b[1;33m,\u001b[0m \u001b[0mvitesse_param\u001b[0m\u001b[1;33m=\u001b[0m\u001b[1;33m[\u001b[0m\u001b[1;36m0\u001b[0m\u001b[1;33m,\u001b[0m\u001b[1;36m1\u001b[0m\u001b[1;33m]\u001b[0m\u001b[1;33m)\u001b[0m\u001b[1;33m:\u001b[0m\u001b[1;33m\u001b[0m\u001b[1;33m\u001b[0m\u001b[0m\n\u001b[1;32m---> 20\u001b[1;33m         \u001b[1;32massert\u001b[0m \u001b[0mtype\u001b[0m\u001b[1;33m(\u001b[0m\u001b[0mposition_param\u001b[0m\u001b[1;33m)\u001b[0m \u001b[1;33m==\u001b[0m \u001b[0mlist\u001b[0m\u001b[1;33m,\u001b[0m \u001b[1;34m\"Position doit être une liste\"\u001b[0m\u001b[1;33m\u001b[0m\u001b[1;33m\u001b[0m\u001b[0m\n\u001b[0m\u001b[0;32m     21\u001b[0m         \u001b[0mself\u001b[0m\u001b[1;33m.\u001b[0m\u001b[0m_marque\u001b[0m \u001b[1;33m=\u001b[0m \u001b[0mmarque_param\u001b[0m\u001b[1;33m\u001b[0m\u001b[1;33m\u001b[0m\u001b[0m\n\u001b[0;32m     22\u001b[0m         \u001b[0mself\u001b[0m\u001b[1;33m.\u001b[0m\u001b[0m_position\u001b[0m \u001b[1;33m=\u001b[0m \u001b[0mnp\u001b[0m\u001b[1;33m.\u001b[0m\u001b[0marray\u001b[0m\u001b[1;33m(\u001b[0m\u001b[0mposition_param\u001b[0m\u001b[1;33m)\u001b[0m\u001b[1;33m\u001b[0m\u001b[1;33m\u001b[0m\u001b[0m\n",
      "\u001b[1;31mAssertionError\u001b[0m: Position doit être une liste"
     ]
    }
   ],
   "source": [
    "import numpy as np\n",
    "\n",
    "\n",
    "\"\"\"\n",
    "    Une classe Voiture\n",
    "    attributs:\n",
    "        - position : np.array([int, int]) (par défaut sera np.array([0, 0]))\n",
    "        - vitesse : np.array([int, int]) (par défault sera np.array([0, 1]))\n",
    "        - marque\n",
    "    methodes:\n",
    "        - avancer(): ajouter vitesse à position\n",
    "        - reculer(): retire vitesse à position\n",
    "        - accelerer(): ajoute un à vitesse\n",
    "        - freiner(): met vitesse à zero\n",
    "    \n",
    "\"\"\"\n",
    "\n",
    "class Voiture:\n",
    "    def __init__(self, marque_param, position_param=[0,0], vitesse_param=[0,1]):\n",
    "        assert type(position_param) == list, \"Position doit être une liste\"\n",
    "        self._marque = marque_param\n",
    "        self._position = np.array(position_param)\n",
    "        self._vitesse = np.array(vitesse_param)\n",
    "        \n",
    "    def avancer(self):\n",
    "        self._position += self._vitesse\n",
    "    def reculer(self):\n",
    "        self._position -= self._vitesse\n",
    "    def accelerer(self):\n",
    "        self._vitesse += 1\n",
    "    def freiner(self):\n",
    "        self._vitesse = 0\n",
    "        \n",
    "    def get_position(self):\n",
    "        return self._position\n",
    "\n",
    "            \n",
    "class VoitureSport(Voiture):\n",
    "    def __init__(self, marque_param, position_param=[0,0], vitesse_param=[0,4]):\n",
    "        Voiture.__init__(self, marque_param, position_param, vitesse_param)\n",
    "        self.nitro_level = 10\n",
    "    def accelerer(self):\n",
    "        self._vitesse += 10\n",
    "    \n",
    "    \n",
    "\n",
    "    \n",
    "une_voiture = Voiture(\"Renault\", 14)\n",
    "une_voiture_de_sport = VoitureSport(\"Porsche\")\n",
    "une_voiture.avancer()\n",
    "une_voiture_de_sport.avancer()\n",
    "print(une_voiture.get_position())\n",
    "print(une_voiture_de_sport.get_position())\n",
    "une_voiture.accelerer()\n",
    "une_voiture_de_sport.accelerer()\n",
    "une_voiture.avancer()\n",
    "une_voiture_de_sport.avancer()\n",
    "print(une_voiture.get_position())\n",
    "print(une_voiture_de_sport.get_position())"
   ]
  },
  {
   "cell_type": "code",
   "execution_count": 7,
   "metadata": {},
   "outputs": [
    {
     "name": "stdout",
     "output_type": "stream",
     "text": [
      "10000\n",
      "9000\n",
      "10000\n"
     ]
    }
   ],
   "source": [
    "class CompteBancaire:\n",
    "    def __init__(self, balance=10000):\n",
    "        self.balance = balance\n",
    "    \n",
    "    def withdraw(self, amount):\n",
    "#         self.balance = self.balance - amount\n",
    "        self.balance -= amount\n",
    "    \n",
    "    def deposit(self, amount):\n",
    "        self.balance += amount\n",
    "        \n",
    "    def __lt__(self, other):\n",
    "        return self.balance < other.balance\n",
    "\n",
    "    def __eq__(self, other):\n",
    "        return self.balance == other.balance\n",
    "    \n",
    "c1 = CompteBancaire()\n",
    "print(c1.balance)\n",
    "c1.withdraw(1000)\n",
    "print(c1.balance)\n",
    "c1.deposit(1000)\n",
    "print(c1.balance)\n",
    "\n"
   ]
  },
  {
   "cell_type": "code",
   "execution_count": 18,
   "metadata": {},
   "outputs": [
    {
     "data": {
      "text/plain": [
       "10400.0"
      ]
     },
     "execution_count": 18,
     "metadata": {},
     "output_type": "execute_result"
    }
   ],
   "source": [
    "\"\"\"\n",
    "Créer deux classes CompteCheque et CompteEpargne qui hérite de CompteBancaire\n",
    "La classe CompteCheque possède un attribut decouvert_max\n",
    "et sa méthode retrait ne doit pas mettre le solde en dessous du decouvert\n",
    "\n",
    "La classe CompteEpargne possède un attribut interet\n",
    "et une méthode en plus annee_prochaine() : rajoute au solde les interet de l'année passée\n",
    "balance += balance * interet / 100\n",
    "\n",
    "Dans la méthode retrait du compte epargne on ne doit pas descendre en dessous dzéro\n",
    "\n",
    "Ajouter des asserts dans les classes filles \n",
    "\"\"\"\n",
    "\n",
    "class CompteCheque(CompteBancaire):\n",
    "    def __init__(self, balance, overdraft):\n",
    "        CompteBancaire.__init__(self, balance)\n",
    "        self.overdraft = overdraft\n",
    "        \n",
    "    def withdraw(self, amount):\n",
    "        assert amount < self.balance + self.overdraft, \"Not enough money\"\n",
    "        CompteBancaire.withdraw(self, amount)\n",
    "        \n",
    "class CompteEpargne(CompteBancaire):\n",
    "    def __init__(self, balance, interest_rate):\n",
    "        assert 0 <= interest_rate and interest_rate <= 100, \"Interest rate should be between 0 and 100\"\n",
    "        CompteBancaire.__init__(self, balance)\n",
    "        self.interest_rate = interest_rate\n",
    "        \n",
    "    def withdraw(self, amount):\n",
    "        assert amount < self.balance, \"Not enough money\"\n",
    "        CompteBancaire.withdraw(self, amount)\n",
    "    \n",
    "    def next_year(self):\n",
    "        self.balance += self.balance * self.interest_rate / 100\n",
    "        \n",
    "        \n",
    "c1 = CompteCheque(1100, 200)\n",
    "c1.withdraw(1200)\n",
    "c1.balance\n",
    "\n",
    "c2 = CompteEpargne(10000, 4)\n",
    "# c2.withdraw(100)\n",
    "c2.next_year()\n",
    "\n",
    "c2.balance"
   ]
  },
  {
   "cell_type": "code",
   "execution_count": 20,
   "metadata": {},
   "outputs": [
    {
     "name": "stdout",
     "output_type": "stream",
     "text": [
      "[' ', 'X', ' ', ' ', ' ', ' ', ' ', ' ', ' ', ' ']\n",
      "[' ', ' ', 'O', ' ', ' ', ' ', ' ', ' ', ' ', ' ']\n",
      "[' ', ' ', ' ', ' ', ' ', ' ', ' ', ' ', ' ', ' ']\n",
      "[' ', ' ', ' ', ' ', ' ', 'X', ' ', ' ', ' ', ' ']\n",
      "[' ', ' ', ' ', 'O', ' ', ' ', ' ', ' ', ' ', ' ']\n",
      "[' ', ' ', ' ', ' ', ' ', ' ', ' ', ' ', ' ', ' ']\n",
      "[' ', ' ', ' ', ' ', ' ', ' ', ' ', ' ', ' ', ' ']\n",
      "[' ', ' ', ' ', ' ', ' ', ' ', ' ', ' ', ' ', ' ']\n",
      "[' ', ' ', ' ', ' ', ' ', ' ', ' ', ' ', ' ', ' ']\n",
      "[' ', ' ', ' ', ' ', ' ', ' ', ' ', ' ', ' ', ' ']\n"
     ]
    }
   ],
   "source": [
    "\"\"\"\n",
    "Pompiers peuvent se déplacer sur 4 directions (en haut, en bas, à gauche, à droite)\n",
    "Bouge d'une case à chaque tour\n",
    "\n",
    "Pour eteindre un feu, le pompier doit arriver SUR la case du feu et attendre 5 tours\n",
    "\n",
    "\n",
    "1- Un pompier un feu\n",
    "2- Un pompier plusieurs feux\n",
    "3- Plusieurs pompiers, plusieurs feux\n",
    "\"\"\"\n",
    "\n",
    "\n",
    "class Pompier:\n",
    "    \"\"\"\n",
    "    position\n",
    "    est_occupe\n",
    "    \"\"\"\n",
    "    pass\n",
    "\n",
    "class Board:\n",
    "    \"\"\"\n",
    "    taille 10x10\n",
    "    liste_pompiers\n",
    "    liste_feux\n",
    "    effectuer_un_tour() # bouge tous les pompiers ou le fait attendre sur un feu\n",
    "    afficher() # affiche la position des pompiers et des feux\n",
    "    \"\"\"\n",
    "    def __init__(self):\n",
    "        self.liste_pompiers = [(1,0), (5,3)]\n",
    "        self.liste_feux = [(2,1), (3,4)]\n",
    "        \n",
    "    def get_char(self, i, j):\n",
    "        if (i,j) in self.liste_pompiers:\n",
    "            return 'X'\n",
    "        if (i,j) in self.liste_feux:\n",
    "            return 'O'\n",
    "        return ' '\n",
    "    \n",
    "    def afficher(self):\n",
    "        for j in range(10):\n",
    "            print([self.get_char(i,j) for i in range(10)])\n",
    "\n",
    "b = Board()\n",
    "\n",
    "b.afficher()"
   ]
  },
  {
   "cell_type": "code",
   "execution_count": null,
   "metadata": {},
   "outputs": [],
   "source": [
    "\"\"\"\n",
    "Pour les Admins\n",
    "\n",
    "On crée une classe Voiture avec une position et un vecteur vitesse\n",
    "A chaque tour, toutes les voitures avancent\n",
    "Quand une voiture arrive au bord du cadre elle tourne sur la droite\n",
    "\n",
    "On affiche le board à chaque tour\n",
    "\"\"\"\n",
    "\n",
    "class Board:\n",
    "    \"\"\"\n",
    "    taille 10x10\n",
    "    liste_voitures\n",
    "    effectuer_un_tour() # bouge tous les pompiers ou le fait attendre sur un feu\n",
    "    afficher() # affiche la position des pompiers et des feux\n",
    "    \"\"\"\n",
    "    def __init__(self):\n",
    "        self.liste_pompiers = [(1,0), (5,3)]\n",
    "        self.liste_feux = [(2,1), (3,4)]\n",
    "        \n",
    "    def get_char(self, i, j):\n",
    "        if (i,j) in self.liste_pompiers:\n",
    "            return 'X'\n",
    "        if (i,j) in self.liste_feux:\n",
    "            return 'O'\n",
    "        return ' '\n",
    "    \n",
    "    def afficher(self):\n",
    "        for j in range(10):\n",
    "            print([self.get_char(i,j) for i in range(10)])\n",
    "\n",
    "b = Board()\n",
    "\n",
    "b.afficher()"
   ]
  }
 ],
 "metadata": {
  "kernelspec": {
   "display_name": "Python 3",
   "language": "python",
   "name": "python3"
  },
  "language_info": {
   "codemirror_mode": {
    "name": "ipython",
    "version": 3
   },
   "file_extension": ".py",
   "mimetype": "text/x-python",
   "name": "python",
   "nbconvert_exporter": "python",
   "pygments_lexer": "ipython3",
   "version": "3.7.3"
  }
 },
 "nbformat": 4,
 "nbformat_minor": 4
}
